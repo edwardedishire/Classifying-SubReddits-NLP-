{
 "cells": [
  {
   "cell_type": "markdown",
   "metadata": {},
   "source": [
    "# Notebook 2: Cleaning & EDA\n",
    "\n",
    "This notebooks is a sequel to notebook 1. Data cleaning and exploratory data analysis will be done here."
   ]
  },
  {
   "cell_type": "markdown",
   "metadata": {},
   "source": [
    "## Imports"
   ]
  },
  {
   "cell_type": "code",
   "execution_count": 13,
   "metadata": {},
   "outputs": [
    {
     "ename": "ModuleNotFoundError",
     "evalue": "No module named 'seaborn'",
     "output_type": "error",
     "traceback": [
      "\u001b[0;31m---------------------------------------------------------------------------\u001b[0m",
      "\u001b[0;31mModuleNotFoundError\u001b[0m                       Traceback (most recent call last)",
      "\u001b[0;32m<ipython-input-13-3bbb1b244751>\u001b[0m in \u001b[0;36m<module>\u001b[0;34m\u001b[0m\n\u001b[1;32m      3\u001b[0m \u001b[0;32mimport\u001b[0m \u001b[0mnumpy\u001b[0m \u001b[0;32mas\u001b[0m \u001b[0mnp\u001b[0m\u001b[0;34m\u001b[0m\u001b[0;34m\u001b[0m\u001b[0m\n\u001b[1;32m      4\u001b[0m \u001b[0;32mimport\u001b[0m \u001b[0mmatplotlib\u001b[0m\u001b[0;34m.\u001b[0m\u001b[0mpyplot\u001b[0m \u001b[0;32mas\u001b[0m \u001b[0mplt\u001b[0m\u001b[0;34m\u001b[0m\u001b[0;34m\u001b[0m\u001b[0m\n\u001b[0;32m----> 5\u001b[0;31m \u001b[0;32mimport\u001b[0m \u001b[0mseaborn\u001b[0m \u001b[0;32mas\u001b[0m \u001b[0msns\u001b[0m\u001b[0;34m\u001b[0m\u001b[0;34m\u001b[0m\u001b[0m\n\u001b[0m\u001b[1;32m      6\u001b[0m \u001b[0;32mimport\u001b[0m \u001b[0mrandom\u001b[0m\u001b[0;34m\u001b[0m\u001b[0;34m\u001b[0m\u001b[0m\n\u001b[1;32m      7\u001b[0m \u001b[0;32mimport\u001b[0m \u001b[0mstring\u001b[0m\u001b[0;34m\u001b[0m\u001b[0;34m\u001b[0m\u001b[0m\n",
      "\u001b[0;31mModuleNotFoundError\u001b[0m: No module named 'seaborn'"
     ]
    }
   ],
   "source": [
    "import requests\n",
    "import pandas as pd\n",
    "import numpy as np\n",
    "import matplotlib.pyplot as plt\n",
    "import seaborn as sns\n",
    "import random\n",
    "import string\n",
    "\n",
    "from sklearn.model_selection import train_test_split\n",
    "from sklearn.linear_model import LogisticRegression\n",
    "from sklearn.feature_extraction.text import CountVectorizer, TfidfVectorizer\n",
    "\n",
    "import nltk\n",
    "from nltk.tokenize import sent_tokenize, word_tokenize, RegexpTokenizer\n",
    "from nltk.stem import WordNetLemmatizer\n",
    "from nltk.stem.porter import PorterStemmer\n",
    "from nltk.corpus import stopwords\n",
    "import re\n",
    "\n",
    "#warnings\n",
    "import warnings\n",
    "warnings.filterwarnings('ignore')"
   ]
  },
  {
   "cell_type": "code",
   "execution_count": 14,
   "metadata": {},
   "outputs": [],
   "source": [
    "depression = pd.read_csv('./data/depression.csv')\n",
    "forever_alone = pd.read_csv('./data/forever_alone.csv')"
   ]
  },
  {
   "cell_type": "markdown",
   "metadata": {},
   "source": [
    "## Data Cleaning"
   ]
  },
  {
   "cell_type": "code",
   "execution_count": 10,
   "metadata": {},
   "outputs": [
    {
     "data": {
      "text/html": [
       "<div>\n",
       "<style scoped>\n",
       "    .dataframe tbody tr th:only-of-type {\n",
       "        vertical-align: middle;\n",
       "    }\n",
       "\n",
       "    .dataframe tbody tr th {\n",
       "        vertical-align: top;\n",
       "    }\n",
       "\n",
       "    .dataframe thead th {\n",
       "        text-align: right;\n",
       "    }\n",
       "</style>\n",
       "<table border=\"1\" class=\"dataframe\">\n",
       "  <thead>\n",
       "    <tr style=\"text-align: right;\">\n",
       "      <th></th>\n",
       "      <th>subreddit</th>\n",
       "      <th>selftext</th>\n",
       "      <th>title</th>\n",
       "      <th>author</th>\n",
       "    </tr>\n",
       "  </thead>\n",
       "  <tbody>\n",
       "    <tr>\n",
       "      <th>0</th>\n",
       "      <td>depression</td>\n",
       "      <td>I just don't know why it happens with me but I...</td>\n",
       "      <td>Extreme overthinking issues</td>\n",
       "      <td>No-Cryptographer-68</td>\n",
       "    </tr>\n",
       "    <tr>\n",
       "      <th>1</th>\n",
       "      <td>depression</td>\n",
       "      <td>Why is it impossible to get help with a deathw...</td>\n",
       "      <td>Why is there no help</td>\n",
       "      <td>Delicious_Sponge</td>\n",
       "    </tr>\n",
       "    <tr>\n",
       "      <th>2</th>\n",
       "      <td>depression</td>\n",
       "      <td>Life is just not my thing i guess, sure some p...</td>\n",
       "      <td>I wish I had managed to kill myself the first ...</td>\n",
       "      <td>YourLittleMonster</td>\n",
       "    </tr>\n",
       "    <tr>\n",
       "      <th>3</th>\n",
       "      <td>depression</td>\n",
       "      <td>i’m so sad.. i’m thinking of committing suicid...</td>\n",
       "      <td>-</td>\n",
       "      <td>TargetResponsible719</td>\n",
       "    </tr>\n",
       "    <tr>\n",
       "      <th>4</th>\n",
       "      <td>depression</td>\n",
       "      <td>\\n\\n I am so fucking ugly and disgusting. I ha...</td>\n",
       "      <td>Honestly</td>\n",
       "      <td>Tacowh0ree</td>\n",
       "    </tr>\n",
       "  </tbody>\n",
       "</table>\n",
       "</div>"
      ],
      "text/plain": [
       "    subreddit                                           selftext  \\\n",
       "0  depression  I just don't know why it happens with me but I...   \n",
       "1  depression  Why is it impossible to get help with a deathw...   \n",
       "2  depression  Life is just not my thing i guess, sure some p...   \n",
       "3  depression  i’m so sad.. i’m thinking of committing suicid...   \n",
       "4  depression  \\n\\n I am so fucking ugly and disgusting. I ha...   \n",
       "\n",
       "                                               title                author  \n",
       "0                        Extreme overthinking issues   No-Cryptographer-68  \n",
       "1                               Why is there no help      Delicious_Sponge  \n",
       "2  I wish I had managed to kill myself the first ...     YourLittleMonster  \n",
       "3                                                  -  TargetResponsible719  \n",
       "4                                           Honestly            Tacowh0ree  "
      ]
     },
     "execution_count": 10,
     "metadata": {},
     "output_type": "execute_result"
    }
   ],
   "source": [
    "depression.head()"
   ]
  },
  {
   "cell_type": "code",
   "execution_count": 11,
   "metadata": {},
   "outputs": [
    {
     "data": {
      "text/html": [
       "<div>\n",
       "<style scoped>\n",
       "    .dataframe tbody tr th:only-of-type {\n",
       "        vertical-align: middle;\n",
       "    }\n",
       "\n",
       "    .dataframe tbody tr th {\n",
       "        vertical-align: top;\n",
       "    }\n",
       "\n",
       "    .dataframe thead th {\n",
       "        text-align: right;\n",
       "    }\n",
       "</style>\n",
       "<table border=\"1\" class=\"dataframe\">\n",
       "  <thead>\n",
       "    <tr style=\"text-align: right;\">\n",
       "      <th></th>\n",
       "      <th>subreddit</th>\n",
       "      <th>selftext</th>\n",
       "      <th>title</th>\n",
       "      <th>author</th>\n",
       "    </tr>\n",
       "  </thead>\n",
       "  <tbody>\n",
       "    <tr>\n",
       "      <th>0</th>\n",
       "      <td>ForeverAlone</td>\n",
       "      <td>Hello 👋🏻 I'm 24yo student from Croatia. I stud...</td>\n",
       "      <td>24 [M4F] European student looking for chat buddy</td>\n",
       "      <td>Croat999</td>\n",
       "    </tr>\n",
       "    <tr>\n",
       "      <th>1</th>\n",
       "      <td>ForeverAlone</td>\n",
       "      <td>It feels so difficult for me - I overthink eve...</td>\n",
       "      <td>I'm starting to feel like there's no point in ...</td>\n",
       "      <td>FlimsyWeek6131</td>\n",
       "    </tr>\n",
       "    <tr>\n",
       "      <th>2</th>\n",
       "      <td>ForeverAlone</td>\n",
       "      <td>I'm just gonna go and light myself a cig in th...</td>\n",
       "      <td>What's the point in trying to find a relations...</td>\n",
       "      <td>LetterCrafty8735</td>\n",
       "    </tr>\n",
       "    <tr>\n",
       "      <th>3</th>\n",
       "      <td>ForeverAlone</td>\n",
       "      <td>Sometimes feel like I have failed in life. I a...</td>\n",
       "      <td>Failed and alone.</td>\n",
       "      <td>watch_more_tv</td>\n",
       "    </tr>\n",
       "    <tr>\n",
       "      <th>4</th>\n",
       "      <td>ForeverAlone</td>\n",
       "      <td>Hello everyone\\n\\nI've been lurking here on an...</td>\n",
       "      <td>a thought piece for the FA subreddit</td>\n",
       "      <td>SVice</td>\n",
       "    </tr>\n",
       "  </tbody>\n",
       "</table>\n",
       "</div>"
      ],
      "text/plain": [
       "      subreddit                                           selftext  \\\n",
       "0  ForeverAlone  Hello 👋🏻 I'm 24yo student from Croatia. I stud...   \n",
       "1  ForeverAlone  It feels so difficult for me - I overthink eve...   \n",
       "2  ForeverAlone  I'm just gonna go and light myself a cig in th...   \n",
       "3  ForeverAlone  Sometimes feel like I have failed in life. I a...   \n",
       "4  ForeverAlone  Hello everyone\\n\\nI've been lurking here on an...   \n",
       "\n",
       "                                               title            author  \n",
       "0   24 [M4F] European student looking for chat buddy          Croat999  \n",
       "1  I'm starting to feel like there's no point in ...    FlimsyWeek6131  \n",
       "2  What's the point in trying to find a relations...  LetterCrafty8735  \n",
       "3                                  Failed and alone.     watch_more_tv  \n",
       "4               a thought piece for the FA subreddit             SVice  "
      ]
     },
     "execution_count": 11,
     "metadata": {},
     "output_type": "execute_result"
    }
   ],
   "source": [
    "forever_alone.head()"
   ]
  },
  {
   "cell_type": "markdown",
   "metadata": {},
   "source": [
    "#### Dropping Duplicates & Reset Index"
   ]
  },
  {
   "cell_type": "code",
   "execution_count": 5,
   "metadata": {},
   "outputs": [
    {
     "name": "stdout",
     "output_type": "stream",
     "text": [
      "subreddit    0\n",
      "selftext     0\n",
      "title        0\n",
      "author       0\n",
      "dtype: int64\n",
      "subreddit    0\n",
      "selftext     0\n",
      "title        0\n",
      "author       0\n",
      "dtype: int64\n"
     ]
    }
   ],
   "source": [
    "depression.drop_duplicates(inplace=True)\n",
    "depression.dropna(inplace = True)\n",
    "print(depression.isnull().sum())\n",
    "\n",
    "forever_alone.drop_duplicates(inplace=True)\n",
    "forever_alone.dropna(inplace = True)\n",
    "print(forever_alone.isnull().sum())"
   ]
  },
  {
   "cell_type": "code",
   "execution_count": 6,
   "metadata": {},
   "outputs": [],
   "source": [
    "depression.reset_index(drop=True, inplace=True)\n",
    "forever_alone.reset_index(drop=True, inplace=True)"
   ]
  },
  {
   "cell_type": "code",
   "execution_count": 7,
   "metadata": {},
   "outputs": [],
   "source": [
    "# Changing columns to lower case\n",
    "for columns in depression.columns:\n",
    "    depression[columns] = depression[columns].str.lower() \n",
    "for columns in forever_alone.columns:\n",
    "    forever_alone[columns] = forever_alone[columns].str.lower()"
   ]
  },
  {
   "cell_type": "markdown",
   "metadata": {},
   "source": [
    "### Removing Common Titles between Both Datasets"
   ]
  },
  {
   "cell_type": "code",
   "execution_count": 8,
   "metadata": {},
   "outputs": [],
   "source": [
    "dep_common_title = depression[depression['title'].isin(forever_alone['title']) == True]\n",
    "fa_common_title = forever_alone[forever_alone['title'].isin(depression['title']) == True]"
   ]
  },
  {
   "cell_type": "code",
   "execution_count": 9,
   "metadata": {},
   "outputs": [],
   "source": [
    "depression.drop(dep_common_title.index, inplace=True)\n",
    "forever_alone.drop(fa_common_title.index, inplace=True)"
   ]
  },
  {
   "cell_type": "code",
   "execution_count": 10,
   "metadata": {},
   "outputs": [],
   "source": [
    "depression.rename(columns={'selftext': 'text'}, inplace=True)\n",
    "forever_alone.rename(columns={'selftext': 'text'}, inplace=True)"
   ]
  },
  {
   "cell_type": "markdown",
   "metadata": {},
   "source": [
    "### Removing Special Characters"
   ]
  },
  {
   "cell_type": "code",
   "execution_count": 11,
   "metadata": {},
   "outputs": [
    {
     "data": {
      "text/html": [
       "<div>\n",
       "<style scoped>\n",
       "    .dataframe tbody tr th:only-of-type {\n",
       "        vertical-align: middle;\n",
       "    }\n",
       "\n",
       "    .dataframe tbody tr th {\n",
       "        vertical-align: top;\n",
       "    }\n",
       "\n",
       "    .dataframe thead th {\n",
       "        text-align: right;\n",
       "    }\n",
       "</style>\n",
       "<table border=\"1\" class=\"dataframe\">\n",
       "  <thead>\n",
       "    <tr style=\"text-align: right;\">\n",
       "      <th></th>\n",
       "      <th>subreddit</th>\n",
       "      <th>text</th>\n",
       "      <th>title</th>\n",
       "      <th>author</th>\n",
       "    </tr>\n",
       "  </thead>\n",
       "  <tbody>\n",
       "    <tr>\n",
       "      <th>0</th>\n",
       "      <td>depression</td>\n",
       "      <td>i just don't know why it happens with me but i...</td>\n",
       "      <td>extreme overthinking issues</td>\n",
       "      <td>no-cryptographer-68</td>\n",
       "    </tr>\n",
       "    <tr>\n",
       "      <th>1</th>\n",
       "      <td>depression</td>\n",
       "      <td>why is it impossible to get help with a deathw...</td>\n",
       "      <td>why is there no help</td>\n",
       "      <td>delicious_sponge</td>\n",
       "    </tr>\n",
       "  </tbody>\n",
       "</table>\n",
       "</div>"
      ],
      "text/plain": [
       "    subreddit                                               text  \\\n",
       "0  depression  i just don't know why it happens with me but i...   \n",
       "1  depression  why is it impossible to get help with a deathw...   \n",
       "\n",
       "                         title               author  \n",
       "0  extreme overthinking issues  no-cryptographer-68  \n",
       "1         why is there no help     delicious_sponge  "
      ]
     },
     "execution_count": 11,
     "metadata": {},
     "output_type": "execute_result"
    }
   ],
   "source": [
    "depression.head(2)"
   ]
  },
  {
   "cell_type": "code",
   "execution_count": 12,
   "metadata": {},
   "outputs": [],
   "source": [
    "# for title\n",
    "depression['title'] = depression['title'].apply(lambda x: re.sub('[^ a-zA-Z0-9]','', x).lower())\n",
    "forever_alone['title'] = forever_alone['title'].apply(lambda x: re.sub('[^ a-zA-Z0-9]','', x).lower())\n",
    "\n",
    "# for text\n",
    "depression['text'] = depression['text'].apply(lambda x: re.sub('[^ a-zA-Z0-9]','', x).lower())\n",
    "forever_alone['text'] = forever_alone['text'].apply(lambda x: re.sub('[^ a-zA-Z0-9]','', x).lower())"
   ]
  },
  {
   "cell_type": "markdown",
   "metadata": {},
   "source": [
    "### Exploring the Distribution of Title and Text Words"
   ]
  },
  {
   "cell_type": "markdown",
   "metadata": {},
   "source": [
    "#### Title Length"
   ]
  },
  {
   "cell_type": "code",
   "execution_count": 13,
   "metadata": {},
   "outputs": [],
   "source": [
    "depression['text_length'] = depression['text'].map(len)\n",
    "forever_alone['text_length'] = forever_alone['text'].map(len)"
   ]
  },
  {
   "cell_type": "code",
   "execution_count": 14,
   "metadata": {},
   "outputs": [
    {
     "name": "stdout",
     "output_type": "stream",
     "text": [
      "Mean Depression Post Text Length: 916.212232096184\n",
      "Mean Forever Alone Post Text Length: 829.7726042230644\n"
     ]
    }
   ],
   "source": [
    "print(f\"Mean Depression Post Text Length:\", depression['text_length'].mean())\n",
    "print(f\"Mean Forever Alone Post Text Length:\", forever_alone['text_length'].mean())"
   ]
  },
  {
   "cell_type": "code",
   "execution_count": 15,
   "metadata": {},
   "outputs": [
    {
     "data": {
      "text/plain": [
       "<matplotlib.legend.Legend at 0x7fabc18d53d0>"
      ]
     },
     "execution_count": 15,
     "metadata": {},
     "output_type": "execute_result"
    },
    {
     "data": {
      "image/png": "[encoded data removed]",
      "text/plain": [
       "<Figure size 720x720 with 1 Axes>"
      ]
     },
     "metadata": {
      "needs_background": "light"
     },
     "output_type": "display_data"
    }
   ],
   "source": [
    "plt.figure(figsize=(10,10))\n",
    "sns.distplot(depression['text_length'], kde=False, color='yellow', label='depression')\n",
    "sns.distplot(forever_alone['text_length'], kde=False, color='blue', label='forever alone')\n",
    "plt.title('Distribution of Text Length')\n",
    "plt.xlabel('Text Length ')\n",
    "plt.ylabel('Frequency')\n",
    "plt.legend()"
   ]
  },
  {
   "cell_type": "markdown",
   "metadata": {},
   "source": [
    "#### Remove Outliers for Text Length"
   ]
  },
  {
   "cell_type": "markdown",
   "metadata": {},
   "source": [
    "I will remove posts with abnormal text length of 1 or less"
   ]
  },
  {
   "cell_type": "code",
   "execution_count": 16,
   "metadata": {},
   "outputs": [
    {
     "data": {
      "text/plain": [
       "count     1913.000000\n",
       "mean       916.212232\n",
       "std       1122.108884\n",
       "min          1.000000\n",
       "25%        306.000000\n",
       "50%        589.000000\n",
       "75%       1134.000000\n",
       "max      12622.000000\n",
       "Name: text_length, dtype: float64"
      ]
     },
     "execution_count": 16,
     "metadata": {},
     "output_type": "execute_result"
    }
   ],
   "source": [
    "depression['text_length'].describe()"
   ]
  },
  {
   "cell_type": "code",
   "execution_count": 17,
   "metadata": {},
   "outputs": [
    {
     "data": {
      "text/html": [
       "<div>\n",
       "<style scoped>\n",
       "    .dataframe tbody tr th:only-of-type {\n",
       "        vertical-align: middle;\n",
       "    }\n",
       "\n",
       "    .dataframe tbody tr th {\n",
       "        vertical-align: top;\n",
       "    }\n",
       "\n",
       "    .dataframe thead th {\n",
       "        text-align: right;\n",
       "    }\n",
       "</style>\n",
       "<table border=\"1\" class=\"dataframe\">\n",
       "  <thead>\n",
       "    <tr style=\"text-align: right;\">\n",
       "      <th></th>\n",
       "      <th>subreddit</th>\n",
       "      <th>text</th>\n",
       "      <th>title</th>\n",
       "      <th>author</th>\n",
       "      <th>text_length</th>\n",
       "    </tr>\n",
       "  </thead>\n",
       "  <tbody>\n",
       "    <tr>\n",
       "      <th>475</th>\n",
       "      <td>depression</td>\n",
       "      <td></td>\n",
       "      <td>i dont know what im living for i get through t...</td>\n",
       "      <td>alexamurillo</td>\n",
       "      <td>1</td>\n",
       "    </tr>\n",
       "  </tbody>\n",
       "</table>\n",
       "</div>"
      ],
      "text/plain": [
       "      subreddit text                                              title  \\\n",
       "475  depression       i dont know what im living for i get through t...   \n",
       "\n",
       "           author  text_length  \n",
       "475  alexamurillo            1  "
      ]
     },
     "execution_count": 17,
     "metadata": {},
     "output_type": "execute_result"
    }
   ],
   "source": [
    "depression[depression['text_length'] <= 1]"
   ]
  },
  {
   "cell_type": "code",
   "execution_count": 18,
   "metadata": {},
   "outputs": [],
   "source": [
    "depression = depression.drop(labels = [475], axis=0)"
   ]
  },
  {
   "cell_type": "code",
   "execution_count": 19,
   "metadata": {},
   "outputs": [
    {
     "data": {
      "text/html": [
       "<div>\n",
       "<style scoped>\n",
       "    .dataframe tbody tr th:only-of-type {\n",
       "        vertical-align: middle;\n",
       "    }\n",
       "\n",
       "    .dataframe tbody tr th {\n",
       "        vertical-align: top;\n",
       "    }\n",
       "\n",
       "    .dataframe thead th {\n",
       "        text-align: right;\n",
       "    }\n",
       "</style>\n",
       "<table border=\"1\" class=\"dataframe\">\n",
       "  <thead>\n",
       "    <tr style=\"text-align: right;\">\n",
       "      <th></th>\n",
       "      <th>subreddit</th>\n",
       "      <th>text</th>\n",
       "      <th>title</th>\n",
       "      <th>author</th>\n",
       "      <th>text_length</th>\n",
       "    </tr>\n",
       "  </thead>\n",
       "  <tbody>\n",
       "    <tr>\n",
       "      <th>1014</th>\n",
       "      <td>depression</td>\n",
       "      <td>its painful anyway knowing you could be treate...</td>\n",
       "      <td>dont read just wanted to put smwere cause fuck it</td>\n",
       "      <td>savekittycatt</td>\n",
       "      <td>11986</td>\n",
       "    </tr>\n",
       "    <tr>\n",
       "      <th>1064</th>\n",
       "      <td>depression</td>\n",
       "      <td>hi im 20 m and just got into a lunch fight wi...</td>\n",
       "      <td>cant stand my father anymore</td>\n",
       "      <td>reddordit</td>\n",
       "      <td>12622</td>\n",
       "    </tr>\n",
       "    <tr>\n",
       "      <th>1802</th>\n",
       "      <td>depression</td>\n",
       "      <td>i dont really know where to begin but here it ...</td>\n",
       "      <td>i am kinda starting to lose hope for everythin...</td>\n",
       "      <td>thunder575</td>\n",
       "      <td>12283</td>\n",
       "    </tr>\n",
       "    <tr>\n",
       "      <th>1916</th>\n",
       "      <td>depression</td>\n",
       "      <td>ill try to be as brief as possible23 yo infp f...</td>\n",
       "      <td>i dont know where to drag myself</td>\n",
       "      <td>infp_grump</td>\n",
       "      <td>11368</td>\n",
       "    </tr>\n",
       "  </tbody>\n",
       "</table>\n",
       "</div>"
      ],
      "text/plain": [
       "       subreddit                                               text  \\\n",
       "1014  depression  its painful anyway knowing you could be treate...   \n",
       "1064  depression   hi im 20 m and just got into a lunch fight wi...   \n",
       "1802  depression  i dont really know where to begin but here it ...   \n",
       "1916  depression  ill try to be as brief as possible23 yo infp f...   \n",
       "\n",
       "                                                  title         author  \\\n",
       "1014  dont read just wanted to put smwere cause fuck it  savekittycatt   \n",
       "1064                       cant stand my father anymore      reddordit   \n",
       "1802  i am kinda starting to lose hope for everythin...     thunder575   \n",
       "1916                   i dont know where to drag myself     infp_grump   \n",
       "\n",
       "      text_length  \n",
       "1014        11986  \n",
       "1064        12622  \n",
       "1802        12283  \n",
       "1916        11368  "
      ]
     },
     "execution_count": 19,
     "metadata": {},
     "output_type": "execute_result"
    }
   ],
   "source": [
    "depression[depression['text_length'] >= 10000]"
   ]
  },
  {
   "cell_type": "code",
   "execution_count": 20,
   "metadata": {},
   "outputs": [
    {
     "data": {
      "text/html": [
       "<div>\n",
       "<style scoped>\n",
       "    .dataframe tbody tr th:only-of-type {\n",
       "        vertical-align: middle;\n",
       "    }\n",
       "\n",
       "    .dataframe tbody tr th {\n",
       "        vertical-align: top;\n",
       "    }\n",
       "\n",
       "    .dataframe thead th {\n",
       "        text-align: right;\n",
       "    }\n",
       "</style>\n",
       "<table border=\"1\" class=\"dataframe\">\n",
       "  <thead>\n",
       "    <tr style=\"text-align: right;\">\n",
       "      <th></th>\n",
       "      <th>subreddit</th>\n",
       "      <th>text</th>\n",
       "      <th>title</th>\n",
       "      <th>author</th>\n",
       "      <th>text_length</th>\n",
       "    </tr>\n",
       "  </thead>\n",
       "  <tbody>\n",
       "    <tr>\n",
       "      <th>1747</th>\n",
       "      <td>foreveralone</td>\n",
       "      <td>d</td>\n",
       "      <td>dont you love it when a girl makes lovey dovey...</td>\n",
       "      <td>oldmanrevived</td>\n",
       "      <td>1</td>\n",
       "    </tr>\n",
       "  </tbody>\n",
       "</table>\n",
       "</div>"
      ],
      "text/plain": [
       "         subreddit text                                              title  \\\n",
       "1747  foreveralone    d  dont you love it when a girl makes lovey dovey...   \n",
       "\n",
       "             author  text_length  \n",
       "1747  oldmanrevived            1  "
      ]
     },
     "execution_count": 20,
     "metadata": {},
     "output_type": "execute_result"
    }
   ],
   "source": [
    "forever_alone[forever_alone['text_length'] <= 1]"
   ]
  },
  {
   "cell_type": "code",
   "execution_count": 21,
   "metadata": {},
   "outputs": [],
   "source": [
    "forever_alone = forever_alone.drop(labels = [1747], axis=0)"
   ]
  },
  {
   "cell_type": "code",
   "execution_count": 22,
   "metadata": {},
   "outputs": [
    {
     "data": {
      "text/html": [
       "<div>\n",
       "<style scoped>\n",
       "    .dataframe tbody tr th:only-of-type {\n",
       "        vertical-align: middle;\n",
       "    }\n",
       "\n",
       "    .dataframe tbody tr th {\n",
       "        vertical-align: top;\n",
       "    }\n",
       "\n",
       "    .dataframe thead th {\n",
       "        text-align: right;\n",
       "    }\n",
       "</style>\n",
       "<table border=\"1\" class=\"dataframe\">\n",
       "  <thead>\n",
       "    <tr style=\"text-align: right;\">\n",
       "      <th></th>\n",
       "      <th>subreddit</th>\n",
       "      <th>text</th>\n",
       "      <th>title</th>\n",
       "      <th>author</th>\n",
       "      <th>text_length</th>\n",
       "    </tr>\n",
       "  </thead>\n",
       "  <tbody>\n",
       "    <tr>\n",
       "      <th>292</th>\n",
       "      <td>foreveralone</td>\n",
       "      <td>so people saypart one is some general thoughts...</td>\n",
       "      <td>sex overrated and unimportant</td>\n",
       "      <td>drinkingdamianatea</td>\n",
       "      <td>11870</td>\n",
       "    </tr>\n",
       "    <tr>\n",
       "      <th>1479</th>\n",
       "      <td>foreveralone</td>\n",
       "      <td>ive been thinking today about loneliness solit...</td>\n",
       "      <td>love dont mean nothing unless theres something...</td>\n",
       "      <td>garbagepailkid1980s</td>\n",
       "      <td>13667</td>\n",
       "    </tr>\n",
       "    <tr>\n",
       "      <th>1814</th>\n",
       "      <td>foreveralone</td>\n",
       "      <td>please bare with me i have only really talked ...</td>\n",
       "      <td>this is long but i have to vent somewhere</td>\n",
       "      <td>mokhalar</td>\n",
       "      <td>10544</td>\n",
       "    </tr>\n",
       "  </tbody>\n",
       "</table>\n",
       "</div>"
      ],
      "text/plain": [
       "         subreddit                                               text  \\\n",
       "292   foreveralone  so people saypart one is some general thoughts...   \n",
       "1479  foreveralone  ive been thinking today about loneliness solit...   \n",
       "1814  foreveralone  please bare with me i have only really talked ...   \n",
       "\n",
       "                                                  title               author  \\\n",
       "292                       sex overrated and unimportant   drinkingdamianatea   \n",
       "1479  love dont mean nothing unless theres something...  garbagepailkid1980s   \n",
       "1814          this is long but i have to vent somewhere             mokhalar   \n",
       "\n",
       "      text_length  \n",
       "292         11870  \n",
       "1479        13667  \n",
       "1814        10544  "
      ]
     },
     "execution_count": 22,
     "metadata": {},
     "output_type": "execute_result"
    }
   ],
   "source": [
    "forever_alone[forever_alone['text_length'] >= 10000]"
   ]
  },
  {
   "cell_type": "markdown",
   "metadata": {},
   "source": [
    "#### Word Counts"
   ]
  },
  {
   "cell_type": "code",
   "execution_count": 23,
   "metadata": {},
   "outputs": [],
   "source": [
    "depression['word_count'] = depression['text'].map(lambda x: len(x.split()))\n",
    "forever_alone['word_count'] = forever_alone['text'].map(lambda x: len(x.split()))"
   ]
  },
  {
   "cell_type": "code",
   "execution_count": 24,
   "metadata": {},
   "outputs": [
    {
     "data": {
      "text/html": [
       "<div>\n",
       "<style scoped>\n",
       "    .dataframe tbody tr th:only-of-type {\n",
       "        vertical-align: middle;\n",
       "    }\n",
       "\n",
       "    .dataframe tbody tr th {\n",
       "        vertical-align: top;\n",
       "    }\n",
       "\n",
       "    .dataframe thead th {\n",
       "        text-align: right;\n",
       "    }\n",
       "</style>\n",
       "<table border=\"1\" class=\"dataframe\">\n",
       "  <thead>\n",
       "    <tr style=\"text-align: right;\">\n",
       "      <th></th>\n",
       "      <th>text</th>\n",
       "    </tr>\n",
       "  </thead>\n",
       "  <tbody>\n",
       "    <tr>\n",
       "      <th>1500</th>\n",
       "      <td>httpswwwusatodaycomstorynewshealth20201021seas...</td>\n",
       "    </tr>\n",
       "    <tr>\n",
       "      <th>1581</th>\n",
       "      <td>yyyyyyyyyyyyyyyyyyyyyyyyyyyyyyyyyyyyyyyyyyyyyy...</td>\n",
       "    </tr>\n",
       "    <tr>\n",
       "      <th>171</th>\n",
       "      <td>playlist httpsopenspotifycomplaylist1miqwzhoak...</td>\n",
       "    </tr>\n",
       "  </tbody>\n",
       "</table>\n",
       "</div>"
      ],
      "text/plain": [
       "                                                   text\n",
       "1500  httpswwwusatodaycomstorynewshealth20201021seas...\n",
       "1581  yyyyyyyyyyyyyyyyyyyyyyyyyyyyyyyyyyyyyyyyyyyyyy...\n",
       "171   playlist httpsopenspotifycomplaylist1miqwzhoak..."
      ]
     },
     "execution_count": 24,
     "metadata": {},
     "output_type": "execute_result"
    }
   ],
   "source": [
    "depression.sort_values(by='word_count', ascending=True)[['text']].head(3)"
   ]
  },
  {
   "cell_type": "code",
   "execution_count": 25,
   "metadata": {},
   "outputs": [
    {
     "data": {
      "text/html": [
       "<div>\n",
       "<style scoped>\n",
       "    .dataframe tbody tr th:only-of-type {\n",
       "        vertical-align: middle;\n",
       "    }\n",
       "\n",
       "    .dataframe tbody tr th {\n",
       "        vertical-align: top;\n",
       "    }\n",
       "\n",
       "    .dataframe thead th {\n",
       "        text-align: right;\n",
       "    }\n",
       "</style>\n",
       "<table border=\"1\" class=\"dataframe\">\n",
       "  <thead>\n",
       "    <tr style=\"text-align: right;\">\n",
       "      <th></th>\n",
       "      <th>text</th>\n",
       "    </tr>\n",
       "  </thead>\n",
       "  <tbody>\n",
       "    <tr>\n",
       "      <th>1479</th>\n",
       "      <td>ive been thinking today about loneliness solit...</td>\n",
       "    </tr>\n",
       "    <tr>\n",
       "      <th>1814</th>\n",
       "      <td>please bare with me i have only really talked ...</td>\n",
       "    </tr>\n",
       "    <tr>\n",
       "      <th>292</th>\n",
       "      <td>so people saypart one is some general thoughts...</td>\n",
       "    </tr>\n",
       "  </tbody>\n",
       "</table>\n",
       "</div>"
      ],
      "text/plain": [
       "                                                   text\n",
       "1479  ive been thinking today about loneliness solit...\n",
       "1814  please bare with me i have only really talked ...\n",
       "292   so people saypart one is some general thoughts..."
      ]
     },
     "execution_count": 25,
     "metadata": {},
     "output_type": "execute_result"
    }
   ],
   "source": [
    "forever_alone.sort_values(by='word_count', ascending=False)[['text']].head(3)"
   ]
  },
  {
   "cell_type": "code",
   "execution_count": 26,
   "metadata": {},
   "outputs": [
    {
     "name": "stdout",
     "output_type": "stream",
     "text": [
      "Mean Depression Post Word Count: 181.19299163179917\n",
      "Mean Forever Alone Post Word Count: 160.72481040086674\n"
     ]
    }
   ],
   "source": [
    "# Mean Word Count in Text\n",
    "print(f\"Mean Depression Post Word Count:\", depression['word_count'].mean())\n",
    "print(f\"Mean Forever Alone Post Word Count:\", forever_alone['word_count'].mean())"
   ]
  },
  {
   "cell_type": "code",
   "execution_count": 27,
   "metadata": {},
   "outputs": [
    {
     "data": {
      "text/plain": [
       "<matplotlib.legend.Legend at 0x7faba075fd90>"
      ]
     },
     "execution_count": 27,
     "metadata": {},
     "output_type": "execute_result"
    },
    {
     "data": {
      "image/png": "[encoded data removed]",
      "text/plain": [
       "<Figure size 720x720 with 1 Axes>"
      ]
     },
     "metadata": {
      "needs_background": "light"
     },
     "output_type": "display_data"
    }
   ],
   "source": [
    "plt.figure(figsize=(10,10))\n",
    "sns.distplot(depression['word_count'], kde=False, color='yellow', label='depression')\n",
    "sns.distplot(forever_alone['word_count'], kde=False, color='blue', label='forever alone')\n",
    "plt.title('Word Count Distribution')\n",
    "plt.xlabel('Word Counts')\n",
    "plt.ylabel('Frequency')\n",
    "plt.legend()"
   ]
  },
  {
   "cell_type": "markdown",
   "metadata": {},
   "source": [
    "Both subreddits have a positively skewed distribution."
   ]
  },
  {
   "cell_type": "markdown",
   "metadata": {},
   "source": [
    "#### Remove Outliers for Word Count"
   ]
  },
  {
   "cell_type": "markdown",
   "metadata": {},
   "source": [
    "Likewise for word count, i will remove those abnormal posts with word word count of 1 or less."
   ]
  },
  {
   "cell_type": "code",
   "execution_count": 28,
   "metadata": {},
   "outputs": [
    {
     "data": {
      "text/html": [
       "<div>\n",
       "<style scoped>\n",
       "    .dataframe tbody tr th:only-of-type {\n",
       "        vertical-align: middle;\n",
       "    }\n",
       "\n",
       "    .dataframe tbody tr th {\n",
       "        vertical-align: top;\n",
       "    }\n",
       "\n",
       "    .dataframe thead th {\n",
       "        text-align: right;\n",
       "    }\n",
       "</style>\n",
       "<table border=\"1\" class=\"dataframe\">\n",
       "  <thead>\n",
       "    <tr style=\"text-align: right;\">\n",
       "      <th></th>\n",
       "      <th>subreddit</th>\n",
       "      <th>text</th>\n",
       "      <th>title</th>\n",
       "      <th>author</th>\n",
       "      <th>text_length</th>\n",
       "      <th>word_count</th>\n",
       "    </tr>\n",
       "  </thead>\n",
       "  <tbody>\n",
       "    <tr>\n",
       "      <th>1500</th>\n",
       "      <td>depression</td>\n",
       "      <td>httpswwwusatodaycomstorynewshealth20201021seas...</td>\n",
       "      <td>seasonal depression may hit a new low</td>\n",
       "      <td>mczeisler</td>\n",
       "      <td>110</td>\n",
       "      <td>1</td>\n",
       "    </tr>\n",
       "    <tr>\n",
       "      <th>1581</th>\n",
       "      <td>depression</td>\n",
       "      <td>yyyyyyyyyyyyyyyyyyyyyyyyyyyyyyyyyyyyyyyyyyyyyy...</td>\n",
       "      <td>put me out of my fucking miseryyyyyyyyyyyyyyyy...</td>\n",
       "      <td>bingostingopingo</td>\n",
       "      <td>931</td>\n",
       "      <td>1</td>\n",
       "    </tr>\n",
       "  </tbody>\n",
       "</table>\n",
       "</div>"
      ],
      "text/plain": [
       "       subreddit                                               text  \\\n",
       "1500  depression  httpswwwusatodaycomstorynewshealth20201021seas...   \n",
       "1581  depression  yyyyyyyyyyyyyyyyyyyyyyyyyyyyyyyyyyyyyyyyyyyyyy...   \n",
       "\n",
       "                                                  title            author  \\\n",
       "1500              seasonal depression may hit a new low         mczeisler   \n",
       "1581  put me out of my fucking miseryyyyyyyyyyyyyyyy...  bingostingopingo   \n",
       "\n",
       "      text_length  word_count  \n",
       "1500          110           1  \n",
       "1581          931           1  "
      ]
     },
     "execution_count": 28,
     "metadata": {},
     "output_type": "execute_result"
    }
   ],
   "source": [
    "depression[depression['word_count'] <= 1]"
   ]
  },
  {
   "cell_type": "code",
   "execution_count": 29,
   "metadata": {},
   "outputs": [
    {
     "data": {
      "text/html": [
       "<div>\n",
       "<style scoped>\n",
       "    .dataframe tbody tr th:only-of-type {\n",
       "        vertical-align: middle;\n",
       "    }\n",
       "\n",
       "    .dataframe tbody tr th {\n",
       "        vertical-align: top;\n",
       "    }\n",
       "\n",
       "    .dataframe thead th {\n",
       "        text-align: right;\n",
       "    }\n",
       "</style>\n",
       "<table border=\"1\" class=\"dataframe\">\n",
       "  <thead>\n",
       "    <tr style=\"text-align: right;\">\n",
       "      <th></th>\n",
       "      <th>subreddit</th>\n",
       "      <th>text</th>\n",
       "      <th>title</th>\n",
       "      <th>author</th>\n",
       "      <th>text_length</th>\n",
       "      <th>word_count</th>\n",
       "    </tr>\n",
       "  </thead>\n",
       "  <tbody>\n",
       "    <tr>\n",
       "      <th>69</th>\n",
       "      <td>foreveralone</td>\n",
       "      <td>ampx200bhttpspreviewreddit7rscc384a5s61pngwidt...</td>\n",
       "      <td>depression be hitting us up at 2am with a wyd</td>\n",
       "      <td>big_ai</td>\n",
       "      <td>117</td>\n",
       "      <td>1</td>\n",
       "    </tr>\n",
       "    <tr>\n",
       "      <th>123</th>\n",
       "      <td>foreveralone</td>\n",
       "      <td>httpsimgurcomaob5bqdehttpsimgurcomahvsxybi</td>\n",
       "      <td>do you think i could be attractive what can i ...</td>\n",
       "      <td>fateboyyanz</td>\n",
       "      <td>42</td>\n",
       "      <td>1</td>\n",
       "    </tr>\n",
       "    <tr>\n",
       "      <th>199</th>\n",
       "      <td>foreveralone</td>\n",
       "      <td>title</td>\n",
       "      <td>rate me in private dms</td>\n",
       "      <td>wurzelman675</td>\n",
       "      <td>5</td>\n",
       "      <td>1</td>\n",
       "    </tr>\n",
       "    <tr>\n",
       "      <th>210</th>\n",
       "      <td>foreveralone</td>\n",
       "      <td>title</td>\n",
       "      <td>rate me in private dms</td>\n",
       "      <td>wurzelman675</td>\n",
       "      <td>5</td>\n",
       "      <td>1</td>\n",
       "    </tr>\n",
       "    <tr>\n",
       "      <th>268</th>\n",
       "      <td>foreveralone</td>\n",
       "      <td>ampx200bhttpspreviewreddit38xlc5xxuyl61jpgwidt...</td>\n",
       "      <td>me who has 0 followers</td>\n",
       "      <td>gprateek</td>\n",
       "      <td>119</td>\n",
       "      <td>1</td>\n",
       "    </tr>\n",
       "    <tr>\n",
       "      <th>386</th>\n",
       "      <td>foreveralone</td>\n",
       "      <td>ampx200bhttpspreviewredditv6198xitnhf61jpgwidt...</td>\n",
       "      <td>pretty much</td>\n",
       "      <td>marko0m</td>\n",
       "      <td>118</td>\n",
       "      <td>1</td>\n",
       "    </tr>\n",
       "    <tr>\n",
       "      <th>482</th>\n",
       "      <td>foreveralone</td>\n",
       "      <td>thoughts</td>\n",
       "      <td>im not sure if this sub is really for me since...</td>\n",
       "      <td>yaboiesbie</td>\n",
       "      <td>8</td>\n",
       "      <td>1</td>\n",
       "    </tr>\n",
       "    <tr>\n",
       "      <th>526</th>\n",
       "      <td>foreveralone</td>\n",
       "      <td>ampx200bhttpspreviewreddit1e4w96havyb61jpgwidt...</td>\n",
       "      <td>hit a new low point saw this in my fb newsfeed...</td>\n",
       "      <td>the_chillpill</td>\n",
       "      <td>119</td>\n",
       "      <td>1</td>\n",
       "    </tr>\n",
       "    <tr>\n",
       "      <th>906</th>\n",
       "      <td>foreveralone</td>\n",
       "      <td>ampx200bhttpspreviewredditzp2ijzg1bfu51pngwidt...</td>\n",
       "      <td>my depression whenever someone tries to assure...</td>\n",
       "      <td>kolesniko</td>\n",
       "      <td>117</td>\n",
       "      <td>1</td>\n",
       "    </tr>\n",
       "    <tr>\n",
       "      <th>1165</th>\n",
       "      <td>foreveralone</td>\n",
       "      <td>ampx200bvideoxf7p064qv6m51</td>\n",
       "      <td>i have completely fallen in love with colombia...</td>\n",
       "      <td>timo-va</td>\n",
       "      <td>26</td>\n",
       "      <td>1</td>\n",
       "    </tr>\n",
       "    <tr>\n",
       "      <th>1211</th>\n",
       "      <td>foreveralone</td>\n",
       "      <td>please</td>\n",
       "      <td>how do i reduce my sex drive to the point wher...</td>\n",
       "      <td>nefar131</td>\n",
       "      <td>6</td>\n",
       "      <td>1</td>\n",
       "    </tr>\n",
       "    <tr>\n",
       "      <th>1442</th>\n",
       "      <td>foreveralone</td>\n",
       "      <td>ampx200bhttpspreviewredditd5r3fxc6ija51pngwidt...</td>\n",
       "      <td>big oof</td>\n",
       "      <td>balstrate</td>\n",
       "      <td>117</td>\n",
       "      <td>1</td>\n",
       "    </tr>\n",
       "  </tbody>\n",
       "</table>\n",
       "</div>"
      ],
      "text/plain": [
       "         subreddit                                               text  \\\n",
       "69    foreveralone  ampx200bhttpspreviewreddit7rscc384a5s61pngwidt...   \n",
       "123   foreveralone         httpsimgurcomaob5bqdehttpsimgurcomahvsxybi   \n",
       "199   foreveralone                                              title   \n",
       "210   foreveralone                                              title   \n",
       "268   foreveralone  ampx200bhttpspreviewreddit38xlc5xxuyl61jpgwidt...   \n",
       "386   foreveralone  ampx200bhttpspreviewredditv6198xitnhf61jpgwidt...   \n",
       "482   foreveralone                                           thoughts   \n",
       "526   foreveralone  ampx200bhttpspreviewreddit1e4w96havyb61jpgwidt...   \n",
       "906   foreveralone  ampx200bhttpspreviewredditzp2ijzg1bfu51pngwidt...   \n",
       "1165  foreveralone                         ampx200bvideoxf7p064qv6m51   \n",
       "1211  foreveralone                                             please   \n",
       "1442  foreveralone  ampx200bhttpspreviewredditd5r3fxc6ija51pngwidt...   \n",
       "\n",
       "                                                  title         author  \\\n",
       "69        depression be hitting us up at 2am with a wyd         big_ai   \n",
       "123   do you think i could be attractive what can i ...    fateboyyanz   \n",
       "199                              rate me in private dms   wurzelman675   \n",
       "210                              rate me in private dms   wurzelman675   \n",
       "268                            me who has 0 followers         gprateek   \n",
       "386                                         pretty much        marko0m   \n",
       "482   im not sure if this sub is really for me since...     yaboiesbie   \n",
       "526   hit a new low point saw this in my fb newsfeed...  the_chillpill   \n",
       "906   my depression whenever someone tries to assure...      kolesniko   \n",
       "1165  i have completely fallen in love with colombia...        timo-va   \n",
       "1211  how do i reduce my sex drive to the point wher...       nefar131   \n",
       "1442                                            big oof      balstrate   \n",
       "\n",
       "      text_length  word_count  \n",
       "69            117           1  \n",
       "123            42           1  \n",
       "199             5           1  \n",
       "210             5           1  \n",
       "268           119           1  \n",
       "386           118           1  \n",
       "482             8           1  \n",
       "526           119           1  \n",
       "906           117           1  \n",
       "1165           26           1  \n",
       "1211            6           1  \n",
       "1442          117           1  "
      ]
     },
     "execution_count": 29,
     "metadata": {},
     "output_type": "execute_result"
    }
   ],
   "source": [
    "forever_alone[forever_alone['word_count'] <= 1]"
   ]
  },
  {
   "cell_type": "code",
   "execution_count": 30,
   "metadata": {},
   "outputs": [],
   "source": [
    "depression = depression.drop(labels = [1500, 1581], axis=0)\n",
    "forever_alone = forever_alone.drop(labels = [69, 123, 199, 210, 268, 386, 482, 526, 906, 1165, 1211, 1442], axis=0)"
   ]
  },
  {
   "cell_type": "markdown",
   "metadata": {},
   "source": [
    "## Pre-Processing"
   ]
  },
  {
   "cell_type": "markdown",
   "metadata": {},
   "source": [
    "- Tokenizing (TfidfVectorizor)\n",
    "- Lemmatizing\n",
    "- Stop word removal\n",
    "\n",
    "NLTK stands for Natural Language Toolkit. It is a powerful tool complete with different Python modules and libraries to carry out simple to complex natural language processing (NLP)"
   ]
  },
  {
   "cell_type": "markdown",
   "metadata": {},
   "source": [
    "### Lemmatizing"
   ]
  },
  {
   "cell_type": "markdown",
   "metadata": {},
   "source": [
    "Lemmatization performs normalization using vocabulary and morphological analysis of words. In another words, it transform words to their actual root. This step helps us to organise our data and counters words with different tenses but have the same root. I chose lemmatization over stemming because of the stemming suffix stripping rule which leaves most words without the last alphabet which can be quite unpleasant."
   ]
  },
  {
   "cell_type": "code",
   "execution_count": 31,
   "metadata": {},
   "outputs": [],
   "source": [
    "# Instantiate lemmatizer.\n",
    "lemmatizer = WordNetLemmatizer()"
   ]
  },
  {
   "cell_type": "code",
   "execution_count": 32,
   "metadata": {},
   "outputs": [],
   "source": [
    "depression['text'] = depression['text'].apply(lambda x: \" \".join([lemmatizer.lemmatize(word) for word in x.split()]))\n",
    "forever_alone['text'] = forever_alone['text'].apply(lambda x: \" \".join([lemmatizer.lemmatize(word) for word in x.split()]))"
   ]
  },
  {
   "cell_type": "markdown",
   "metadata": {},
   "source": [
    "### Stop Word Removal"
   ]
  },
  {
   "cell_type": "markdown",
   "metadata": {},
   "source": [
    "This step is important as we do not want stop words to influence our model scores have a more accurate execution. I have selected the english stopwords as my default stopwords. By removing low information words from text, we can focus on the important words instead."
   ]
  },
  {
   "cell_type": "code",
   "execution_count": 33,
   "metadata": {},
   "outputs": [],
   "source": [
    "stop = stopwords.words(\"english\")"
   ]
  },
  {
   "cell_type": "code",
   "execution_count": 34,
   "metadata": {},
   "outputs": [],
   "source": [
    "forever_alone['text'] = forever_alone['text'].apply(lambda x: \" \".join([item for item in x.split() if item not in stop]))\n",
    "depression['text'] = depression['text'].apply(lambda x: \" \".join([item for item in x.split() if item not in stop]))"
   ]
  },
  {
   "cell_type": "markdown",
   "metadata": {},
   "source": [
    "## Exploratory Data Analysis"
   ]
  },
  {
   "cell_type": "markdown",
   "metadata": {},
   "source": [
    "### Filtering out Top Common Words"
   ]
  },
  {
   "cell_type": "markdown",
   "metadata": {},
   "source": [
    "#### For Depression subreddit"
   ]
  },
  {
   "cell_type": "code",
   "execution_count": 35,
   "metadata": {},
   "outputs": [],
   "source": [
    "# Define X & Y\n",
    "X = depression['text']\n",
    "y = depression['subreddit']"
   ]
  },
  {
   "cell_type": "code",
   "execution_count": 36,
   "metadata": {},
   "outputs": [],
   "source": [
    "# Split the data into the training and testing sets.\n",
    "X_train, X_test, y_train, y_test = train_test_split(X,\n",
    "                                                    y,\n",
    "                                                    test_size=0.33,\n",
    "                                                    stratify=y,\n",
    "                                                    random_state=42)"
   ]
  },
  {
   "cell_type": "markdown",
   "metadata": {},
   "source": [
    "The TfidfVectorizer will tokenize documents, learn the vocabulary and inverse document frequency weightings, and allow you to encode new documents. I tried both count vectorizer and Tfidf vectorizer and the latter produced the better results so i went with the latter. "
   ]
  },
  {
   "cell_type": "code",
   "execution_count": 37,
   "metadata": {},
   "outputs": [],
   "source": [
    "# Instantiate TFIDF\n",
    "tvec = TfidfVectorizer(stop_words='english', min_df=5, max_df=.95)\n",
    "\n",
    "# Fit and Transform X_train\n",
    "X_train = tvec.fit_transform(X_train)"
   ]
  },
  {
   "cell_type": "code",
   "execution_count": 38,
   "metadata": {},
   "outputs": [
    {
     "data": {
      "text/plain": [
       "(1279, 2094)"
      ]
     },
     "execution_count": 38,
     "metadata": {},
     "output_type": "execute_result"
    }
   ],
   "source": [
    "X_train.shape"
   ]
  },
  {
   "cell_type": "code",
   "execution_count": 39,
   "metadata": {},
   "outputs": [
    {
     "data": {
      "text/plain": [
       "['alright',\n",
       " 'amazing',\n",
       " 'amp',\n",
       " 'angel',\n",
       " 'anger',\n",
       " 'angry',\n",
       " 'animal',\n",
       " 'anime',\n",
       " 'annoyed',\n",
       " 'annoying']"
      ]
     },
     "execution_count": 39,
     "metadata": {},
     "output_type": "execute_result"
    }
   ],
   "source": [
    "tvec.get_feature_names()[100:110]"
   ]
  },
  {
   "cell_type": "code",
   "execution_count": 40,
   "metadata": {},
   "outputs": [],
   "source": [
    "# Transform Test Set\n",
    "X_test = tvec.transform(X_test)\n",
    "\n",
    "X_test_df = pd.DataFrame(X_test.todense(),\n",
    "                         columns = tvec.get_feature_names())"
   ]
  },
  {
   "cell_type": "code",
   "execution_count": 41,
   "metadata": {},
   "outputs": [
    {
     "data": {
      "text/plain": [
       "Text(0, 0.5, 'Count')"
      ]
     },
     "execution_count": 41,
     "metadata": {},
     "output_type": "execute_result"
    },
    {
     "data": {
      "image/png": "[encoded data removed]",
      "text/plain": [
       "<Figure size 720x720 with 1 Axes>"
      ]
     },
     "metadata": {
      "needs_background": "light"
     },
     "output_type": "display_data"
    }
   ],
   "source": [
    "# convert training data to dataframe\n",
    "X_train_dep = pd.DataFrame(X_train.todense(), \n",
    "                          columns=tvec.get_feature_names())\n",
    "\n",
    "# plot top occuring words\n",
    "plt.figure(figsize=(10,10))\n",
    "X_train_dep.sum().sort_values(ascending=False).head(20).plot(kind='barh');\n",
    "plt.title(\"Top 20 most common words in comments for Depression Subreddit\")\n",
    "plt.xlabel(\"Word\")\n",
    "plt.ylabel(\"Count\")"
   ]
  },
  {
   "cell_type": "markdown",
   "metadata": {},
   "source": [
    "#### For Forever Alone subreddit"
   ]
  },
  {
   "cell_type": "code",
   "execution_count": 42,
   "metadata": {},
   "outputs": [],
   "source": [
    "# Define X & Y\n",
    "X = forever_alone['text']\n",
    "y = forever_alone['subreddit']"
   ]
  },
  {
   "cell_type": "code",
   "execution_count": 43,
   "metadata": {},
   "outputs": [],
   "source": [
    "# Split the data into the training and testing sets.\n",
    "X_train, X_test, y_train, y_test = train_test_split(X,\n",
    "                                                    y,\n",
    "                                                    test_size=0.33,\n",
    "                                                    stratify=y,\n",
    "                                                    random_state=42)"
   ]
  },
  {
   "cell_type": "code",
   "execution_count": 44,
   "metadata": {},
   "outputs": [],
   "source": [
    "tvec_2 = TfidfVectorizer(stop_words='english', min_df=5, max_df=.95)"
   ]
  },
  {
   "cell_type": "code",
   "execution_count": 45,
   "metadata": {},
   "outputs": [],
   "source": [
    "X_train = tvec_2.fit_transform(X_train)"
   ]
  },
  {
   "cell_type": "code",
   "execution_count": 46,
   "metadata": {},
   "outputs": [],
   "source": [
    "# Transform test\n",
    "X_test = tvec_2.transform(X_test)\n",
    "\n",
    "X_test_df = pd.DataFrame(X_test.todense(),\n",
    "                         columns = tvec_2.get_feature_names())"
   ]
  },
  {
   "cell_type": "code",
   "execution_count": 47,
   "metadata": {},
   "outputs": [
    {
     "data": {
      "text/plain": [
       "Text(0, 0.5, 'Count')"
      ]
     },
     "execution_count": 47,
     "metadata": {},
     "output_type": "execute_result"
    },
    {
     "data": {
      "image/png": "[encoded data removed]",
      "text/plain": [
       "<Figure size 720x720 with 1 Axes>"
      ]
     },
     "metadata": {
      "needs_background": "light"
     },
     "output_type": "display_data"
    }
   ],
   "source": [
    "# convert training data to dataframe\n",
    "X_train_fa = pd.DataFrame(X_train.todense(), \n",
    "                          columns=tvec_2.get_feature_names())\n",
    "\n",
    "# plot top occuring words\n",
    "plt.figure(figsize=(10,10))\n",
    "X_train_fa.sum().sort_values(ascending=False).head(20).plot(kind='barh');\n",
    "plt.title(\"Top 20 most common words\")\n",
    "plt.xlabel(\"Word\")\n",
    "plt.ylabel(\"Count\")"
   ]
  },
  {
   "cell_type": "markdown",
   "metadata": {},
   "source": [
    "As seen from the top 20 words in both subreddits after applying the stop words, there are still many words which have low importance or real meaning to the respective subreddits. Hence, i will extend the stopwords list with my customised stopwords."
   ]
  },
  {
   "cell_type": "markdown",
   "metadata": {},
   "source": [
    "### Customising Stop Words"
   ]
  },
  {
   "cell_type": "code",
   "execution_count": 48,
   "metadata": {},
   "outputs": [],
   "source": [
    "custom_stopwords = ['im', 'like', 'wa', 'dont','feel', 'life', 'time', 'ive', 'really', 'think', 'make', \n",
    "                    'people', 'year', 'thing', 'friend', 'day', 'ha', 'way', 'got', 'know', 'want', \n",
    "                    'good', 'say', 'word', 'going', 'didnt', 'work', 'thought', 'talk', 'love', 'feeling', \n",
    "                    'thats', 'said']"
   ]
  },
  {
   "cell_type": "code",
   "execution_count": 49,
   "metadata": {},
   "outputs": [],
   "source": [
    "stop.extend(custom_stopwords)"
   ]
  },
  {
   "cell_type": "code",
   "execution_count": 50,
   "metadata": {},
   "outputs": [],
   "source": [
    "#forever_alone['text'] = forever_alone['text'].apply(lambda x: \" \".join([item for item in x.split() if item not in stop]))\n",
    "depression['text'] = depression['text'].apply(lambda x: \" \".join([item for item in x.split() if item not in stop]))"
   ]
  },
  {
   "cell_type": "code",
   "execution_count": 51,
   "metadata": {},
   "outputs": [],
   "source": [
    "# Define X & Y\n",
    "X = depression['text']\n",
    "y = depression['subreddit']\n",
    "\n",
    "# Split the data into the training and testing sets.\n",
    "X_train, X_test, y_train, y_test = train_test_split(X,\n",
    "                                                    y,\n",
    "                                                    test_size=0.33,\n",
    "                                                    stratify=y,\n",
    "                                                    random_state=42)\n",
    "\n",
    "# Instantiate CV\n",
    "tvec = TfidfVectorizer(stop_words='english', min_df=5, max_df=.95)\n",
    "\n",
    "# Fit and Transform X_train\n",
    "X_train = tvec.fit_transform(X_train)"
   ]
  },
  {
   "cell_type": "code",
   "execution_count": 52,
   "metadata": {},
   "outputs": [],
   "source": [
    "# Transform Test Set\n",
    "X_test = tvec.transform(X_test)\n",
    "\n",
    "X_test_df = pd.DataFrame(X_test.toarray(),\n",
    "                         columns = tvec.get_feature_names())"
   ]
  },
  {
   "cell_type": "code",
   "execution_count": 53,
   "metadata": {},
   "outputs": [
    {
     "data": {
      "text/plain": [
       "Text(0, 0.5, 'Count')"
      ]
     },
     "execution_count": 53,
     "metadata": {},
     "output_type": "execute_result"
    },
    {
     "data": {
      "image/png": "[encoded data removed]",
      "text/plain": [
       "<Figure size 720x720 with 1 Axes>"
      ]
     },
     "metadata": {
      "needs_background": "light"
     },
     "output_type": "display_data"
    }
   ],
   "source": [
    "# convert training data to dataframe\n",
    "X_train_dep = pd.DataFrame(X_train.todense(), \n",
    "                          columns=tvec.get_feature_names())\n",
    "\n",
    "# plot top occuring words\n",
    "plt.figure(figsize=(10,10))\n",
    "X_train_dep.sum().sort_values(ascending=False).head(10).plot(kind='barh');\n",
    "plt.title(\"Top 10 words in Depression Subreddit\")\n",
    "plt.xlabel(\"Word\")\n",
    "plt.ylabel(\"Count\")"
   ]
  },
  {
   "cell_type": "markdown",
   "metadata": {},
   "source": [
    "Doing the same for Forever Alone"
   ]
  },
  {
   "cell_type": "code",
   "execution_count": 54,
   "metadata": {},
   "outputs": [],
   "source": [
    "forever_alone['text'] = forever_alone['text'].apply(lambda x: \" \".join([item for item in x.split() if item not in stop]))\n",
    "#depression['text'] = depression['text'].apply(lambda x: \" \".join([item for item in x.split() if item not in stop]))"
   ]
  },
  {
   "cell_type": "code",
   "execution_count": 55,
   "metadata": {},
   "outputs": [],
   "source": [
    "# Define X & Y\n",
    "X = forever_alone['text']\n",
    "y = forever_alone['subreddit']\n",
    "\n",
    "# Split the data into the training and testing sets.\n",
    "X_train, X_test, y_train, y_test = train_test_split(X,\n",
    "                                                    y,\n",
    "                                                    test_size=0.33,\n",
    "                                                    stratify=y,\n",
    "                                                    random_state=42)\n",
    "\n",
    "tvec_2 = TfidfVectorizer(stop_words='english', min_df=5, max_df=.95)\n",
    "X_train = tvec_2.fit_transform(X_train)"
   ]
  },
  {
   "cell_type": "code",
   "execution_count": 56,
   "metadata": {},
   "outputs": [],
   "source": [
    "# Transform test\n",
    "X_test = tvec_2.transform(X_test)\n",
    "\n",
    "X_test_df = pd.DataFrame(X_test.todense(),\n",
    "                         columns = tvec_2.get_feature_names())"
   ]
  },
  {
   "cell_type": "code",
   "execution_count": 57,
   "metadata": {},
   "outputs": [
    {
     "data": {
      "text/plain": [
       "Text(0, 0.5, 'Count')"
      ]
     },
     "execution_count": 57,
     "metadata": {},
     "output_type": "execute_result"
    },
    {
     "data": {
      "image/png": "[encoded data removed]",
      "text/plain": [
       "<Figure size 720x720 with 1 Axes>"
      ]
     },
     "metadata": {
      "needs_background": "light"
     },
     "output_type": "display_data"
    }
   ],
   "source": [
    "# convert training data to dataframe\n",
    "X_train_fa = pd.DataFrame(X_train.todense(), \n",
    "                          columns=tvec_2.get_feature_names())\n",
    "\n",
    "# plot top occuring words\n",
    "plt.figure(figsize=(10,10))\n",
    "X_train_fa.sum().sort_values(ascending=False).head(10).plot(kind='barh');\n",
    "plt.title(\"Top 10 words in Forever Alone Subreddit\")\n",
    "plt.xlabel(\"Word\")\n",
    "plt.ylabel(\"Count\")"
   ]
  },
  {
   "cell_type": "markdown",
   "metadata": {},
   "source": [
    "Now the top 10 words looks more meaningful in catergorizing a post."
   ]
  },
  {
   "cell_type": "markdown",
   "metadata": {},
   "source": [
    "### Zooming in on more significant words and removing common words in both dataframes"
   ]
  },
  {
   "cell_type": "markdown",
   "metadata": {},
   "source": [
    "To further explore the meaning of words, i decided to zoom deeper and find words outside the top 50 most common words that are unique to each subreddit"
   ]
  },
  {
   "cell_type": "code",
   "execution_count": 58,
   "metadata": {},
   "outputs": [],
   "source": [
    "top_fa_words = X_train_fa.sum().sort_values(ascending=False)\n",
    "top_dep_words = X_train_dep.sum().sort_values(ascending=False)"
   ]
  },
  {
   "cell_type": "code",
   "execution_count": 59,
   "metadata": {},
   "outputs": [],
   "source": [
    "#top_dep_words.head()"
   ]
  },
  {
   "cell_type": "code",
   "execution_count": 60,
   "metadata": {},
   "outputs": [],
   "source": [
    "#top_fa_words.head()"
   ]
  },
  {
   "cell_type": "code",
   "execution_count": 61,
   "metadata": {},
   "outputs": [],
   "source": [
    "dep_filter = [word for word in top_dep_words.index if word not in top_fa_words.index]\n",
    "fa_filter = [word for word in top_fa_words.index if word not in top_dep_words.index]"
   ]
  },
  {
   "cell_type": "code",
   "execution_count": 62,
   "metadata": {},
   "outputs": [],
   "source": [
    "#dep_filter"
   ]
  },
  {
   "cell_type": "code",
   "execution_count": 63,
   "metadata": {},
   "outputs": [],
   "source": [
    "dep_keywords = [word for word in dep_filter if word in top_dep_words]\n",
    "fa_keywords = [word for word in fa_filter if word in top_fa_words]"
   ]
  },
  {
   "cell_type": "code",
   "execution_count": 64,
   "metadata": {},
   "outputs": [],
   "source": [
    "dep_keywords_df = pd.DataFrame(dep_keywords, columns=['Depression Key Word'])\n",
    "#dep_keywords_df"
   ]
  },
  {
   "cell_type": "code",
   "execution_count": 65,
   "metadata": {},
   "outputs": [],
   "source": [
    "fa_keywords_df = pd.DataFrame(fa_keywords, columns=['Forever Alone Key Word'])\n",
    "#fa_keywords_df"
   ]
  },
  {
   "cell_type": "code",
   "execution_count": 66,
   "metadata": {},
   "outputs": [
    {
     "data": {
      "text/html": [
       "<div>\n",
       "<style scoped>\n",
       "    .dataframe tbody tr th:only-of-type {\n",
       "        vertical-align: middle;\n",
       "    }\n",
       "\n",
       "    .dataframe tbody tr th {\n",
       "        vertical-align: top;\n",
       "    }\n",
       "\n",
       "    .dataframe thead th {\n",
       "        text-align: right;\n",
       "    }\n",
       "</style>\n",
       "<table border=\"1\" class=\"dataframe\">\n",
       "  <thead>\n",
       "    <tr style=\"text-align: right;\">\n",
       "      <th></th>\n",
       "      <th>Depression Key Word</th>\n",
       "      <th>Forever Alone Key Word</th>\n",
       "    </tr>\n",
       "  </thead>\n",
       "  <tbody>\n",
       "    <tr>\n",
       "      <th>0</th>\n",
       "      <td>med</td>\n",
       "      <td>fa</td>\n",
       "    </tr>\n",
       "    <tr>\n",
       "      <th>1</th>\n",
       "      <td>diagnosed</td>\n",
       "      <td>virgin</td>\n",
       "    </tr>\n",
       "    <tr>\n",
       "      <th>2</th>\n",
       "      <td>antidepressant</td>\n",
       "      <td>tinder</td>\n",
       "    </tr>\n",
       "    <tr>\n",
       "      <th>3</th>\n",
       "      <td>psychiatrist</td>\n",
       "      <td>cute</td>\n",
       "    </tr>\n",
       "    <tr>\n",
       "      <th>4</th>\n",
       "      <td>depressive</td>\n",
       "      <td>attracted</td>\n",
       "    </tr>\n",
       "    <tr>\n",
       "      <th>5</th>\n",
       "      <td>disappear</td>\n",
       "      <td>kiss</td>\n",
       "    </tr>\n",
       "    <tr>\n",
       "      <th>6</th>\n",
       "      <td>disorder</td>\n",
       "      <td>cuddle</td>\n",
       "    </tr>\n",
       "    <tr>\n",
       "      <th>7</th>\n",
       "      <td>cutting</td>\n",
       "      <td>kissed</td>\n",
       "    </tr>\n",
       "    <tr>\n",
       "      <th>8</th>\n",
       "      <td>mum</td>\n",
       "      <td>site</td>\n",
       "    </tr>\n",
       "    <tr>\n",
       "      <th>9</th>\n",
       "      <td>treatment</td>\n",
       "      <td>introverted</td>\n",
       "    </tr>\n",
       "  </tbody>\n",
       "</table>\n",
       "</div>"
      ],
      "text/plain": [
       "  Depression Key Word Forever Alone Key Word\n",
       "0                 med                     fa\n",
       "1           diagnosed                 virgin\n",
       "2      antidepressant                 tinder\n",
       "3        psychiatrist                   cute\n",
       "4          depressive              attracted\n",
       "5           disappear                   kiss\n",
       "6            disorder                 cuddle\n",
       "7             cutting                 kissed\n",
       "8                 mum                   site\n",
       "9           treatment            introverted"
      ]
     },
     "execution_count": 66,
     "metadata": {},
     "output_type": "execute_result"
    }
   ],
   "source": [
    "keywords_total = pd.concat([dep_keywords_df, fa_keywords_df], axis=1)\n",
    "keywords_total.head(10)"
   ]
  },
  {
   "cell_type": "markdown",
   "metadata": {},
   "source": [
    "As shown in the top 10 unique words that are not in the top 50 common words between both datasets, it shows a bigger picture. Words like cutting, antidepressant, depressive etc are often associated with depression and its symtoms. Hence these more powerful words can be an indicator of a potentially depressed user."
   ]
  },
  {
   "cell_type": "code",
   "execution_count": 67,
   "metadata": {},
   "outputs": [
    {
     "data": {
      "text/html": [
       "<div>\n",
       "<style scoped>\n",
       "    .dataframe tbody tr th:only-of-type {\n",
       "        vertical-align: middle;\n",
       "    }\n",
       "\n",
       "    .dataframe tbody tr th {\n",
       "        vertical-align: top;\n",
       "    }\n",
       "\n",
       "    .dataframe thead th {\n",
       "        text-align: right;\n",
       "    }\n",
       "</style>\n",
       "<table border=\"1\" class=\"dataframe\">\n",
       "  <thead>\n",
       "    <tr style=\"text-align: right;\">\n",
       "      <th></th>\n",
       "      <th>text_length</th>\n",
       "      <th>word_count</th>\n",
       "    </tr>\n",
       "  </thead>\n",
       "  <tbody>\n",
       "    <tr>\n",
       "      <th>count</th>\n",
       "      <td>1910.000000</td>\n",
       "      <td>1910.000000</td>\n",
       "    </tr>\n",
       "    <tr>\n",
       "      <th>mean</th>\n",
       "      <td>917.105759</td>\n",
       "      <td>181.381675</td>\n",
       "    </tr>\n",
       "    <tr>\n",
       "      <th>std</th>\n",
       "      <td>1122.642822</td>\n",
       "      <td>219.717380</td>\n",
       "    </tr>\n",
       "    <tr>\n",
       "      <th>min</th>\n",
       "      <td>23.000000</td>\n",
       "      <td>2.000000</td>\n",
       "    </tr>\n",
       "    <tr>\n",
       "      <th>25%</th>\n",
       "      <td>308.000000</td>\n",
       "      <td>61.250000</td>\n",
       "    </tr>\n",
       "    <tr>\n",
       "      <th>50%</th>\n",
       "      <td>589.500000</td>\n",
       "      <td>118.000000</td>\n",
       "    </tr>\n",
       "    <tr>\n",
       "      <th>75%</th>\n",
       "      <td>1134.750000</td>\n",
       "      <td>223.750000</td>\n",
       "    </tr>\n",
       "    <tr>\n",
       "      <th>max</th>\n",
       "      <td>12622.000000</td>\n",
       "      <td>2590.000000</td>\n",
       "    </tr>\n",
       "  </tbody>\n",
       "</table>\n",
       "</div>"
      ],
      "text/plain": [
       "        text_length   word_count\n",
       "count   1910.000000  1910.000000\n",
       "mean     917.105759   181.381675\n",
       "std     1122.642822   219.717380\n",
       "min       23.000000     2.000000\n",
       "25%      308.000000    61.250000\n",
       "50%      589.500000   118.000000\n",
       "75%     1134.750000   223.750000\n",
       "max    12622.000000  2590.000000"
      ]
     },
     "execution_count": 67,
     "metadata": {},
     "output_type": "execute_result"
    }
   ],
   "source": [
    "depression.describe()"
   ]
  },
  {
   "cell_type": "code",
   "execution_count": 68,
   "metadata": {},
   "outputs": [
    {
     "data": {
      "text/html": [
       "<div>\n",
       "<style scoped>\n",
       "    .dataframe tbody tr th:only-of-type {\n",
       "        vertical-align: middle;\n",
       "    }\n",
       "\n",
       "    .dataframe tbody tr th {\n",
       "        vertical-align: top;\n",
       "    }\n",
       "\n",
       "    .dataframe thead th {\n",
       "        text-align: right;\n",
       "    }\n",
       "</style>\n",
       "<table border=\"1\" class=\"dataframe\">\n",
       "  <thead>\n",
       "    <tr style=\"text-align: right;\">\n",
       "      <th></th>\n",
       "      <th>text_length</th>\n",
       "      <th>word_count</th>\n",
       "    </tr>\n",
       "  </thead>\n",
       "  <tbody>\n",
       "    <tr>\n",
       "      <th>count</th>\n",
       "      <td>1834.000000</td>\n",
       "      <td>1834.000000</td>\n",
       "    </tr>\n",
       "    <tr>\n",
       "      <th>mean</th>\n",
       "      <td>835.218103</td>\n",
       "      <td>161.769902</td>\n",
       "    </tr>\n",
       "    <tr>\n",
       "      <th>std</th>\n",
       "      <td>1036.447656</td>\n",
       "      <td>195.626991</td>\n",
       "    </tr>\n",
       "    <tr>\n",
       "      <th>min</th>\n",
       "      <td>7.000000</td>\n",
       "      <td>2.000000</td>\n",
       "    </tr>\n",
       "    <tr>\n",
       "      <th>25%</th>\n",
       "      <td>254.000000</td>\n",
       "      <td>50.000000</td>\n",
       "    </tr>\n",
       "    <tr>\n",
       "      <th>50%</th>\n",
       "      <td>525.000000</td>\n",
       "      <td>103.000000</td>\n",
       "    </tr>\n",
       "    <tr>\n",
       "      <th>75%</th>\n",
       "      <td>1043.750000</td>\n",
       "      <td>203.000000</td>\n",
       "    </tr>\n",
       "    <tr>\n",
       "      <th>max</th>\n",
       "      <td>13667.000000</td>\n",
       "      <td>2438.000000</td>\n",
       "    </tr>\n",
       "  </tbody>\n",
       "</table>\n",
       "</div>"
      ],
      "text/plain": [
       "        text_length   word_count\n",
       "count   1834.000000  1834.000000\n",
       "mean     835.218103   161.769902\n",
       "std     1036.447656   195.626991\n",
       "min        7.000000     2.000000\n",
       "25%      254.000000    50.000000\n",
       "50%      525.000000   103.000000\n",
       "75%     1043.750000   203.000000\n",
       "max    13667.000000  2438.000000"
      ]
     },
     "execution_count": 68,
     "metadata": {},
     "output_type": "execute_result"
    }
   ],
   "source": [
    "forever_alone.describe()"
   ]
  },
  {
   "cell_type": "code",
   "execution_count": 69,
   "metadata": {},
   "outputs": [],
   "source": [
    "model_df = pd.concat([depression, forever_alone], ignore_index=True)"
   ]
  },
  {
   "cell_type": "code",
   "execution_count": 70,
   "metadata": {},
   "outputs": [
    {
     "data": {
      "text/plain": [
       "subreddit      0\n",
       "text           0\n",
       "title          0\n",
       "author         0\n",
       "text_length    0\n",
       "word_count     0\n",
       "dtype: int64"
      ]
     },
     "execution_count": 70,
     "metadata": {},
     "output_type": "execute_result"
    }
   ],
   "source": [
    "model_df.isnull().sum()"
   ]
  },
  {
   "cell_type": "code",
   "execution_count": 71,
   "metadata": {},
   "outputs": [],
   "source": [
    "model_df.drop_duplicates(inplace=True)"
   ]
  },
  {
   "cell_type": "code",
   "execution_count": 72,
   "metadata": {},
   "outputs": [],
   "source": [
    "#model_df.to_csv('./data/model_df.csv', index=False)"
   ]
  },
  {
   "cell_type": "markdown",
   "metadata": {},
   "source": [
    "# NEXT WORKBOOK --->"
   ]
  },
  {
   "cell_type": "code",
   "execution_count": null,
   "metadata": {},
   "outputs": [],
   "source": []
  }
 ],
 "metadata": {
  "kernelspec": {
   "display_name": "Python 3",
   "language": "python",
   "name": "python3"
  },
  "language_info": {
   "codemirror_mode": {
    "name": "ipython",
    "version": 3
   },
   "file_extension": ".py",
   "mimetype": "text/x-python",
   "name": "python",
   "nbconvert_exporter": "python",
   "pygments_lexer": "ipython3",
   "version": "3.9.2"
  }
 },
 "nbformat": 4,
 "nbformat_minor": 4
}
